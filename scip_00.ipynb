{
 "cells": [
  {
   "cell_type": "code",
   "execution_count": 1,
   "metadata": {},
   "outputs": [],
   "source": [
    "# Installation\n",
    "# conda install --channel conda-forge pyscipopt\n",
    "# Manual: https://imada.sdu.dk/~marco/Misc/PySCIPOpt/index.html\n",
    "# github: https://github.com/scipopt/PySCIPOpt"
   ]
  },
  {
   "cell_type": "code",
   "execution_count": 2,
   "metadata": {},
   "outputs": [],
   "source": [
    "from pyscipopt import Model"
   ]
  },
  {
   "cell_type": "code",
   "execution_count": 8,
   "metadata": {},
   "outputs": [
    {
     "name": "stdout",
     "output_type": "stream",
     "text": [
      "x: 0.0\n",
      "y: 0.0\n"
     ]
    }
   ],
   "source": [
    "model = Model(\"Example\")  # model name is optional\n",
    "\n",
    "x = model.addVar(\"x\")\n",
    "y = model.addVar(\"y\", vtype=\"INTEGER\")\n",
    "model.setObjective(x + y)\n",
    "model.addCons(2*x - y*y >= 0)\n",
    "model.optimize()\n",
    "sol = model.getBestSol()\n",
    "print(\"x: {}\".format(sol[x]))\n",
    "print(\"y: {}\".format(sol[y]))"
   ]
  },
  {
   "cell_type": "code",
   "execution_count": 25,
   "metadata": {},
   "outputs": [
    {
     "name": "stdout",
     "output_type": "stream",
     "text": [
      "Optimal value: 17.75\n",
      "('octopusses', 'turtles', 'cranes')  =  (17.75, 0.0, 0.0)\n"
     ]
    }
   ],
   "source": [
    "model = Model(\"puzzle\")\n",
    "x = model.addVar(vtype=\"CONTINUOUS\", name=\"octopusses\")\n",
    "y = model.addVar(vtype=\"CONTINUOUS\", name=\"turtles\")\n",
    "z = model.addVar(vtype=\"CONTINUOUS\", name=\"cranes\")\n",
    "\n",
    "# Set up constraint for number of heads\n",
    "# model.addCons(x + y + z == 32, name=\"Heads\")\n",
    "\n",
    "# Set up constraint for number of legs\n",
    "model.addCons(8*x + 4*y + 2.3*z == 142, name=\"Legs\")\n",
    "\n",
    "# Set objective function\n",
    "model.setObjective(x + y + z, \"minimize\")\n",
    "\n",
    "model.hideOutput()\n",
    "model.optimize()\n",
    "\n",
    "#solution = model.getBestSol()\n",
    "\n",
    "print(\"Optimal value:\", model.getObjVal())\n",
    "print((x.name, y.name, z.name), \" = \", (model.getVal(x), model.getVal(y), model.getVal(z)))"
   ]
  },
  {
   "cell_type": "code",
   "execution_count": 34,
   "metadata": {},
   "outputs": [
    {
     "name": "stdout",
     "output_type": "stream",
     "text": [
      "Optimal value: 11.0\n",
      "('octopusses', 'turtles', 'cranes')  =  (9.0, 2.0, 21.0)\n"
     ]
    }
   ],
   "source": [
    "model = Model(\"puzzle\")\n",
    "x = model.addVar(vtype=\"I\", name=\"octopusses\")\n",
    "y = model.addVar(vtype=\"I\", name=\"turtles\")\n",
    "z = model.addVar(vtype=\"I\", name=\"cranes\")\n",
    "\n",
    "# Set up constraint for number of heads\n",
    "model.addCons(x + y + z == 32, name=\"Heads\")\n",
    "\n",
    "# Set up constraint for number of legs\n",
    "model.addCons(8*x + 4*y + 2*z == 122, name=\"Legs\")\n",
    "\n",
    "# Set objective function\n",
    "model.setObjective(x + y, \"minimize\")\n",
    "\n",
    "model.hideOutput()\n",
    "model.optimize()\n",
    "\n",
    "#solution = model.getBestSol()\n",
    "\n",
    "print(\"Optimal value:\", model.getObjVal())\n",
    "print((x.name, y.name, z.name), \" = \", (model.getVal(x), model.getVal(y), model.getVal(z)))"
   ]
  },
  {
   "cell_type": "code",
   "execution_count": null,
   "metadata": {},
   "outputs": [],
   "source": []
  }
 ],
 "metadata": {
  "kernelspec": {
   "display_name": "Python [conda env:py38] *",
   "language": "python",
   "name": "conda-env-py38-py"
  },
  "language_info": {
   "codemirror_mode": {
    "name": "ipython",
    "version": 3
   },
   "file_extension": ".py",
   "mimetype": "text/x-python",
   "name": "python",
   "nbconvert_exporter": "python",
   "pygments_lexer": "ipython3",
   "version": "3.8.5"
  }
 },
 "nbformat": 4,
 "nbformat_minor": 4
}
